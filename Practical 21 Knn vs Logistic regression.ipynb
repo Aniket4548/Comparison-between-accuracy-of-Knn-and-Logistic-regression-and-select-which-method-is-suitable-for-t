{
 "cells": [
  {
   "cell_type": "markdown",
   "id": "75887241",
   "metadata": {},
   "source": [
    "# Practical 21"
   ]
  },
  {
   "cell_type": "markdown",
   "id": "7933fc5e",
   "metadata": {},
   "source": [
    "# Comparison between accuracy of Knn and Logistic regression and select which method is suitable for the given dataset"
   ]
  },
  {
   "cell_type": "markdown",
   "id": "d272aaf7",
   "metadata": {},
   "source": [
    "# ....................................................KNN...................................................."
   ]
  },
  {
   "cell_type": "code",
   "execution_count": 1,
   "id": "54359ad3",
   "metadata": {},
   "outputs": [],
   "source": [
    "#importing the libraries\n",
    "import numpy as np\n",
    "import pandas as pd\n",
    "from matplotlib import pyplot\n",
    "import matplotlib.pyplot as plt\n",
    "from sklearn import preprocessing"
   ]
  },
  {
   "cell_type": "code",
   "execution_count": 2,
   "id": "1188bd3b",
   "metadata": {},
   "outputs": [],
   "source": [
    "df = pd.read_csv(r\"D:\\Machine Learning\\User_Data.csv\")  #importing the dataset"
   ]
  },
  {
   "cell_type": "code",
   "execution_count": 3,
   "id": "8912c839",
   "metadata": {
    "scrolled": false
   },
   "outputs": [
    {
     "data": {
      "text/html": [
       "<div>\n",
       "<style scoped>\n",
       "    .dataframe tbody tr th:only-of-type {\n",
       "        vertical-align: middle;\n",
       "    }\n",
       "\n",
       "    .dataframe tbody tr th {\n",
       "        vertical-align: top;\n",
       "    }\n",
       "\n",
       "    .dataframe thead th {\n",
       "        text-align: right;\n",
       "    }\n",
       "</style>\n",
       "<table border=\"1\" class=\"dataframe\">\n",
       "  <thead>\n",
       "    <tr style=\"text-align: right;\">\n",
       "      <th></th>\n",
       "      <th>User ID</th>\n",
       "      <th>Gender</th>\n",
       "      <th>Age</th>\n",
       "      <th>EstimatedSalary</th>\n",
       "      <th>Purchased</th>\n",
       "    </tr>\n",
       "  </thead>\n",
       "  <tbody>\n",
       "    <tr>\n",
       "      <th>0</th>\n",
       "      <td>15624510</td>\n",
       "      <td>Male</td>\n",
       "      <td>19</td>\n",
       "      <td>19000</td>\n",
       "      <td>0</td>\n",
       "    </tr>\n",
       "    <tr>\n",
       "      <th>1</th>\n",
       "      <td>15810944</td>\n",
       "      <td>Male</td>\n",
       "      <td>35</td>\n",
       "      <td>20000</td>\n",
       "      <td>0</td>\n",
       "    </tr>\n",
       "    <tr>\n",
       "      <th>2</th>\n",
       "      <td>15668575</td>\n",
       "      <td>Female</td>\n",
       "      <td>26</td>\n",
       "      <td>43000</td>\n",
       "      <td>0</td>\n",
       "    </tr>\n",
       "    <tr>\n",
       "      <th>3</th>\n",
       "      <td>15603246</td>\n",
       "      <td>Female</td>\n",
       "      <td>27</td>\n",
       "      <td>57000</td>\n",
       "      <td>0</td>\n",
       "    </tr>\n",
       "    <tr>\n",
       "      <th>4</th>\n",
       "      <td>15804002</td>\n",
       "      <td>Male</td>\n",
       "      <td>19</td>\n",
       "      <td>76000</td>\n",
       "      <td>0</td>\n",
       "    </tr>\n",
       "  </tbody>\n",
       "</table>\n",
       "</div>"
      ],
      "text/plain": [
       "    User ID  Gender  Age  EstimatedSalary  Purchased\n",
       "0  15624510    Male   19            19000          0\n",
       "1  15810944    Male   35            20000          0\n",
       "2  15668575  Female   26            43000          0\n",
       "3  15603246  Female   27            57000          0\n",
       "4  15804002    Male   19            76000          0"
      ]
     },
     "execution_count": 3,
     "metadata": {},
     "output_type": "execute_result"
    }
   ],
   "source": [
    "df.head()  #viewing the dataset"
   ]
  },
  {
   "cell_type": "code",
   "execution_count": 4,
   "id": "eaea04b4",
   "metadata": {},
   "outputs": [
    {
     "data": {
      "text/html": [
       "<div>\n",
       "<style scoped>\n",
       "    .dataframe tbody tr th:only-of-type {\n",
       "        vertical-align: middle;\n",
       "    }\n",
       "\n",
       "    .dataframe tbody tr th {\n",
       "        vertical-align: top;\n",
       "    }\n",
       "\n",
       "    .dataframe thead th {\n",
       "        text-align: right;\n",
       "    }\n",
       "</style>\n",
       "<table border=\"1\" class=\"dataframe\">\n",
       "  <thead>\n",
       "    <tr style=\"text-align: right;\">\n",
       "      <th></th>\n",
       "      <th>User ID</th>\n",
       "      <th>Age</th>\n",
       "      <th>EstimatedSalary</th>\n",
       "      <th>Purchased</th>\n",
       "    </tr>\n",
       "  </thead>\n",
       "  <tbody>\n",
       "    <tr>\n",
       "      <th>count</th>\n",
       "      <td>4.000000e+02</td>\n",
       "      <td>400.000000</td>\n",
       "      <td>400.000000</td>\n",
       "      <td>400.000000</td>\n",
       "    </tr>\n",
       "    <tr>\n",
       "      <th>mean</th>\n",
       "      <td>1.569154e+07</td>\n",
       "      <td>37.655000</td>\n",
       "      <td>69742.500000</td>\n",
       "      <td>0.357500</td>\n",
       "    </tr>\n",
       "    <tr>\n",
       "      <th>std</th>\n",
       "      <td>7.165832e+04</td>\n",
       "      <td>10.482877</td>\n",
       "      <td>34096.960282</td>\n",
       "      <td>0.479864</td>\n",
       "    </tr>\n",
       "    <tr>\n",
       "      <th>min</th>\n",
       "      <td>1.556669e+07</td>\n",
       "      <td>18.000000</td>\n",
       "      <td>15000.000000</td>\n",
       "      <td>0.000000</td>\n",
       "    </tr>\n",
       "    <tr>\n",
       "      <th>25%</th>\n",
       "      <td>1.562676e+07</td>\n",
       "      <td>29.750000</td>\n",
       "      <td>43000.000000</td>\n",
       "      <td>0.000000</td>\n",
       "    </tr>\n",
       "    <tr>\n",
       "      <th>50%</th>\n",
       "      <td>1.569434e+07</td>\n",
       "      <td>37.000000</td>\n",
       "      <td>70000.000000</td>\n",
       "      <td>0.000000</td>\n",
       "    </tr>\n",
       "    <tr>\n",
       "      <th>75%</th>\n",
       "      <td>1.575036e+07</td>\n",
       "      <td>46.000000</td>\n",
       "      <td>88000.000000</td>\n",
       "      <td>1.000000</td>\n",
       "    </tr>\n",
       "    <tr>\n",
       "      <th>max</th>\n",
       "      <td>1.581524e+07</td>\n",
       "      <td>60.000000</td>\n",
       "      <td>150000.000000</td>\n",
       "      <td>1.000000</td>\n",
       "    </tr>\n",
       "  </tbody>\n",
       "</table>\n",
       "</div>"
      ],
      "text/plain": [
       "            User ID         Age  EstimatedSalary   Purchased\n",
       "count  4.000000e+02  400.000000       400.000000  400.000000\n",
       "mean   1.569154e+07   37.655000     69742.500000    0.357500\n",
       "std    7.165832e+04   10.482877     34096.960282    0.479864\n",
       "min    1.556669e+07   18.000000     15000.000000    0.000000\n",
       "25%    1.562676e+07   29.750000     43000.000000    0.000000\n",
       "50%    1.569434e+07   37.000000     70000.000000    0.000000\n",
       "75%    1.575036e+07   46.000000     88000.000000    1.000000\n",
       "max    1.581524e+07   60.000000    150000.000000    1.000000"
      ]
     },
     "execution_count": 4,
     "metadata": {},
     "output_type": "execute_result"
    }
   ],
   "source": [
    "df.describe()  #getting the baisc statistical values of the dataset"
   ]
  },
  {
   "cell_type": "code",
   "execution_count": 5,
   "id": "83ecb620",
   "metadata": {},
   "outputs": [
    {
     "data": {
      "text/plain": [
       "0    257\n",
       "1    143\n",
       "Name: Purchased, dtype: int64"
      ]
     },
     "execution_count": 5,
     "metadata": {},
     "output_type": "execute_result"
    }
   ],
   "source": [
    "df[\"Purchased\"].value_counts()"
   ]
  },
  {
   "cell_type": "code",
   "execution_count": 6,
   "id": "81137fea",
   "metadata": {},
   "outputs": [
    {
     "data": {
      "text/plain": [
       "Index(['User ID', 'Gender', 'Age', 'EstimatedSalary', 'Purchased'], dtype='object')"
      ]
     },
     "execution_count": 6,
     "metadata": {},
     "output_type": "execute_result"
    }
   ],
   "source": [
    "df.columns  #getting the column headings"
   ]
  },
  {
   "cell_type": "code",
   "execution_count": 7,
   "id": "dc19f291",
   "metadata": {},
   "outputs": [
    {
     "name": "stdout",
     "output_type": "stream",
     "text": [
      "[[   19 19000]\n",
      " [   35 20000]\n",
      " [   26 43000]\n",
      " [   27 57000]\n",
      " [   19 76000]]\n",
      "[0 0 0 0 0]\n"
     ]
    }
   ],
   "source": [
    "#spliting the dataset into dependent and independent variables\n",
    "x = df[['Age', 'EstimatedSalary']].values\n",
    "print(x[0:5])\n",
    "y = df[ 'Purchased'].values\n",
    "print(y[0:5])"
   ]
  },
  {
   "cell_type": "code",
   "execution_count": 8,
   "id": "5225664b",
   "metadata": {},
   "outputs": [
    {
     "data": {
      "text/plain": [
       "array([[-1.78179743, -1.49004624],\n",
       "       [-0.25358736, -1.46068138],\n",
       "       [-1.11320552, -0.78528968],\n",
       "       [-1.01769239, -0.37418169],\n",
       "       [-1.78179743,  0.18375059],\n",
       "       [-1.01769239, -0.34481683],\n",
       "       [-1.01769239,  0.41866944],\n",
       "       [-0.54012675,  2.35674998],\n",
       "       [-1.20871865, -1.07893824],\n",
       "       [-0.25358736, -0.13926283]])"
      ]
     },
     "execution_count": 8,
     "metadata": {},
     "output_type": "execute_result"
    }
   ],
   "source": [
    "x = preprocessing.StandardScaler().fit(x).transform(x.astype(float))  #scaling, fitting and transforming the independent variables\n",
    "# in this step we are using anonymous objects. linking objects without makig them refer is called anonymous objects\n",
    "x[0:10]"
   ]
  },
  {
   "cell_type": "code",
   "execution_count": 9,
   "id": "070c8a76",
   "metadata": {},
   "outputs": [],
   "source": [
    "from sklearn.model_selection import train_test_split  #spliting the training and testing dataset\n",
    "xtrain, xtest, ytrain, ytest = train_test_split(x, y, test_size = 0.2, random_state = 0)"
   ]
  },
  {
   "cell_type": "code",
   "execution_count": 10,
   "id": "c0c14424",
   "metadata": {},
   "outputs": [],
   "source": [
    "from sklearn.neighbors import KNeighborsClassifier  # imprting the KNN classifier\n",
    "from sklearn import metrics\n",
    "k = 4\n",
    "knnClassifier = KNeighborsClassifier(n_neighbors = k, metric = \"minkowski\", p = 2).fit(xtrain, ytrain)"
   ]
  },
  {
   "cell_type": "code",
   "execution_count": 11,
   "id": "08044433",
   "metadata": {},
   "outputs": [
    {
     "name": "stdout",
     "output_type": "stream",
     "text": [
      "Accuracy of model at K = 4 is : 0.95\n"
     ]
    },
    {
     "name": "stderr",
     "output_type": "stream",
     "text": [
      "C:\\Users\\ANIKET KUMAR\\anaconda3\\lib\\site-packages\\sklearn\\neighbors\\_classification.py:228: FutureWarning: Unlike other reduction functions (e.g. `skew`, `kurtosis`), the default behavior of `mode` typically preserves the axis it acts along. In SciPy 1.11.0, this behavior will change: the default value of `keepdims` will become False, the `axis` over which the statistic is taken will be eliminated, and the value None will no longer be accepted. Set `keepdims` to True or False to avoid this warning.\n",
      "  mode, _ = stats.mode(_y[neigh_ind, k], axis=1)\n"
     ]
    }
   ],
   "source": [
    "predy = knnClassifier.predict(xtest)\n",
    "print(\"Accuracy of model at K = 4 is :\", metrics.accuracy_score(ytest, predy))"
   ]
  },
  {
   "cell_type": "code",
   "execution_count": 12,
   "id": "31308159",
   "metadata": {},
   "outputs": [
    {
     "name": "stdout",
     "output_type": "stream",
     "text": [
      "Accuracy of model at K = 5 is : 0.95\n"
     ]
    },
    {
     "name": "stderr",
     "output_type": "stream",
     "text": [
      "C:\\Users\\ANIKET KUMAR\\anaconda3\\lib\\site-packages\\sklearn\\neighbors\\_classification.py:228: FutureWarning: Unlike other reduction functions (e.g. `skew`, `kurtosis`), the default behavior of `mode` typically preserves the axis it acts along. In SciPy 1.11.0, this behavior will change: the default value of `keepdims` will become False, the `axis` over which the statistic is taken will be eliminated, and the value None will no longer be accepted. Set `keepdims` to True or False to avoid this warning.\n",
      "  mode, _ = stats.mode(_y[neigh_ind, k], axis=1)\n"
     ]
    }
   ],
   "source": [
    "k = 5\n",
    "knnClassifier = KNeighborsClassifier(n_neighbors = k, metric = \"minkowski\", p = 2).fit(xtrain, ytrain)\n",
    "predy = knnClassifier.predict(xtest)\n",
    "print(\"Accuracy of model at K = 5 is :\", metrics.accuracy_score(ytest, predy))"
   ]
  },
  {
   "cell_type": "code",
   "execution_count": 13,
   "id": "8c09d572",
   "metadata": {},
   "outputs": [
    {
     "name": "stdout",
     "output_type": "stream",
     "text": [
      "Accuracy of model at K = 8 is : 0.95\n"
     ]
    },
    {
     "name": "stderr",
     "output_type": "stream",
     "text": [
      "C:\\Users\\ANIKET KUMAR\\anaconda3\\lib\\site-packages\\sklearn\\neighbors\\_classification.py:228: FutureWarning: Unlike other reduction functions (e.g. `skew`, `kurtosis`), the default behavior of `mode` typically preserves the axis it acts along. In SciPy 1.11.0, this behavior will change: the default value of `keepdims` will become False, the `axis` over which the statistic is taken will be eliminated, and the value None will no longer be accepted. Set `keepdims` to True or False to avoid this warning.\n",
      "  mode, _ = stats.mode(_y[neigh_ind, k], axis=1)\n"
     ]
    }
   ],
   "source": [
    "k = 8\n",
    "knnClassifier = KNeighborsClassifier(n_neighbors = k, metric = \"minkowski\", p = 2).fit(xtrain, ytrain)\n",
    "predy = knnClassifier.predict(xtest)\n",
    "print(\"Accuracy of model at K = 8 is :\", metrics.accuracy_score(ytest, predy))"
   ]
  },
  {
   "cell_type": "code",
   "execution_count": 14,
   "id": "4cb4f32b",
   "metadata": {},
   "outputs": [
    {
     "name": "stdout",
     "output_type": "stream",
     "text": [
      "Accuracy of model at K = 8 is : 0.95\n",
      "[[55  3]\n",
      " [ 1 21]]\n"
     ]
    },
    {
     "name": "stderr",
     "output_type": "stream",
     "text": [
      "C:\\Users\\ANIKET KUMAR\\anaconda3\\lib\\site-packages\\sklearn\\neighbors\\_classification.py:228: FutureWarning: Unlike other reduction functions (e.g. `skew`, `kurtosis`), the default behavior of `mode` typically preserves the axis it acts along. In SciPy 1.11.0, this behavior will change: the default value of `keepdims` will become False, the `axis` over which the statistic is taken will be eliminated, and the value None will no longer be accepted. Set `keepdims` to True or False to avoid this warning.\n",
      "  mode, _ = stats.mode(_y[neigh_ind, k], axis=1)\n"
     ]
    }
   ],
   "source": [
    "k = 8\n",
    "knnClassifier = KNeighborsClassifier(n_neighbors = k, metric = \"minkowski\", p = 2).fit(xtrain, ytrain)\n",
    "predy = knnClassifier.predict(xtest)\n",
    "print(\"Accuracy of model at K = 8 is :\", metrics.accuracy_score(ytest, predy))  \n",
    "confusion_matrix = metrics.confusion_matrix(ytest, predy)  #creating the confusion matrix\n",
    "print(confusion_matrix)"
   ]
  },
  {
   "cell_type": "code",
   "execution_count": 15,
   "id": "b58756b8",
   "metadata": {},
   "outputs": [
    {
     "name": "stdout",
     "output_type": "stream",
     "text": [
      "              precision    recall  f1-score   support\n",
      "\n",
      "           0       0.98      0.95      0.96        58\n",
      "           1       0.88      0.95      0.91        22\n",
      "\n",
      "    accuracy                           0.95        80\n",
      "   macro avg       0.93      0.95      0.94        80\n",
      "weighted avg       0.95      0.95      0.95        80\n",
      "\n",
      "Accuracy of model at K = 8 is : 0.95\n"
     ]
    }
   ],
   "source": [
    "print(metrics.classification_report(ytest, predy))\n",
    "print(\"Accuracy of model at K = 8 is :\", metrics.accuracy_score(ytest, predy))"
   ]
  },
  {
   "cell_type": "markdown",
   "id": "ab16fcff",
   "metadata": {},
   "source": [
    "# ..............................................Logistic Regression.............................................."
   ]
  },
  {
   "cell_type": "code",
   "execution_count": 16,
   "id": "fcc1ba8d",
   "metadata": {},
   "outputs": [],
   "source": [
    "# Import the library\n",
    "import pandas as pd\n",
    "import numpy as np\n",
    "import matplotlib.pyplot as plt"
   ]
  },
  {
   "cell_type": "code",
   "execution_count": 17,
   "id": "4b3ce341",
   "metadata": {
    "scrolled": false
   },
   "outputs": [
    {
     "data": {
      "text/html": [
       "<div>\n",
       "<style scoped>\n",
       "    .dataframe tbody tr th:only-of-type {\n",
       "        vertical-align: middle;\n",
       "    }\n",
       "\n",
       "    .dataframe tbody tr th {\n",
       "        vertical-align: top;\n",
       "    }\n",
       "\n",
       "    .dataframe thead th {\n",
       "        text-align: right;\n",
       "    }\n",
       "</style>\n",
       "<table border=\"1\" class=\"dataframe\">\n",
       "  <thead>\n",
       "    <tr style=\"text-align: right;\">\n",
       "      <th></th>\n",
       "      <th>User ID</th>\n",
       "      <th>Gender</th>\n",
       "      <th>Age</th>\n",
       "      <th>EstimatedSalary</th>\n",
       "      <th>Purchased</th>\n",
       "    </tr>\n",
       "  </thead>\n",
       "  <tbody>\n",
       "    <tr>\n",
       "      <th>0</th>\n",
       "      <td>15624510</td>\n",
       "      <td>Male</td>\n",
       "      <td>19</td>\n",
       "      <td>19000</td>\n",
       "      <td>0</td>\n",
       "    </tr>\n",
       "    <tr>\n",
       "      <th>1</th>\n",
       "      <td>15810944</td>\n",
       "      <td>Male</td>\n",
       "      <td>35</td>\n",
       "      <td>20000</td>\n",
       "      <td>0</td>\n",
       "    </tr>\n",
       "    <tr>\n",
       "      <th>2</th>\n",
       "      <td>15668575</td>\n",
       "      <td>Female</td>\n",
       "      <td>26</td>\n",
       "      <td>43000</td>\n",
       "      <td>0</td>\n",
       "    </tr>\n",
       "    <tr>\n",
       "      <th>3</th>\n",
       "      <td>15603246</td>\n",
       "      <td>Female</td>\n",
       "      <td>27</td>\n",
       "      <td>57000</td>\n",
       "      <td>0</td>\n",
       "    </tr>\n",
       "    <tr>\n",
       "      <th>4</th>\n",
       "      <td>15804002</td>\n",
       "      <td>Male</td>\n",
       "      <td>19</td>\n",
       "      <td>76000</td>\n",
       "      <td>0</td>\n",
       "    </tr>\n",
       "    <tr>\n",
       "      <th>...</th>\n",
       "      <td>...</td>\n",
       "      <td>...</td>\n",
       "      <td>...</td>\n",
       "      <td>...</td>\n",
       "      <td>...</td>\n",
       "    </tr>\n",
       "    <tr>\n",
       "      <th>395</th>\n",
       "      <td>15691863</td>\n",
       "      <td>Female</td>\n",
       "      <td>46</td>\n",
       "      <td>41000</td>\n",
       "      <td>1</td>\n",
       "    </tr>\n",
       "    <tr>\n",
       "      <th>396</th>\n",
       "      <td>15706071</td>\n",
       "      <td>Male</td>\n",
       "      <td>51</td>\n",
       "      <td>23000</td>\n",
       "      <td>1</td>\n",
       "    </tr>\n",
       "    <tr>\n",
       "      <th>397</th>\n",
       "      <td>15654296</td>\n",
       "      <td>Female</td>\n",
       "      <td>50</td>\n",
       "      <td>20000</td>\n",
       "      <td>1</td>\n",
       "    </tr>\n",
       "    <tr>\n",
       "      <th>398</th>\n",
       "      <td>15755018</td>\n",
       "      <td>Male</td>\n",
       "      <td>36</td>\n",
       "      <td>33000</td>\n",
       "      <td>0</td>\n",
       "    </tr>\n",
       "    <tr>\n",
       "      <th>399</th>\n",
       "      <td>15594041</td>\n",
       "      <td>Female</td>\n",
       "      <td>49</td>\n",
       "      <td>36000</td>\n",
       "      <td>1</td>\n",
       "    </tr>\n",
       "  </tbody>\n",
       "</table>\n",
       "<p>400 rows × 5 columns</p>\n",
       "</div>"
      ],
      "text/plain": [
       "      User ID  Gender  Age  EstimatedSalary  Purchased\n",
       "0    15624510    Male   19            19000          0\n",
       "1    15810944    Male   35            20000          0\n",
       "2    15668575  Female   26            43000          0\n",
       "3    15603246  Female   27            57000          0\n",
       "4    15804002    Male   19            76000          0\n",
       "..        ...     ...  ...              ...        ...\n",
       "395  15691863  Female   46            41000          1\n",
       "396  15706071    Male   51            23000          1\n",
       "397  15654296  Female   50            20000          1\n",
       "398  15755018    Male   36            33000          0\n",
       "399  15594041  Female   49            36000          1\n",
       "\n",
       "[400 rows x 5 columns]"
      ]
     },
     "execution_count": 17,
     "metadata": {},
     "output_type": "execute_result"
    }
   ],
   "source": [
    "data= pd.read_csv(r\"D:\\Machine Learning\\User_Data.csv\")  #import the dataset\n",
    "data"
   ]
  },
  {
   "cell_type": "code",
   "execution_count": 18,
   "id": "22ae2b9e",
   "metadata": {},
   "outputs": [],
   "source": [
    "# Input\n",
    "x = data.iloc[:,[2,3]].values\n",
    "#Output\n",
    "y = data.iloc[:,4].values"
   ]
  },
  {
   "cell_type": "code",
   "execution_count": 19,
   "id": "31f8f7d7",
   "metadata": {},
   "outputs": [],
   "source": [
    "from sklearn.model_selection import train_test_split  # Splitting the data in training and testing\n",
    "xtrain, xtest, ytrain, ytest = train_test_split(x, y, test_size = 0.25 , random_state = 0 )"
   ]
  },
  {
   "cell_type": "code",
   "execution_count": 20,
   "id": "6aef8f08",
   "metadata": {},
   "outputs": [
    {
     "name": "stdout",
     "output_type": "stream",
     "text": [
      "[[ 0.58164944 -0.88670699]\n",
      " [-0.60673761  1.46173768]\n",
      " [-0.01254409 -0.5677824 ]\n",
      " [-0.60673761  1.89663484]\n",
      " [ 1.37390747 -1.40858358]\n",
      " [ 1.47293972  0.99784738]\n",
      " [ 0.08648817 -0.79972756]\n",
      " [-0.01254409 -0.24885782]\n",
      " [-0.21060859 -0.5677824 ]\n",
      " [-0.21060859 -0.19087153]\n",
      " [-0.30964085 -1.29261101]\n",
      " [-0.30964085 -0.5677824 ]\n",
      " [ 0.38358493  0.09905991]\n",
      " [ 0.8787462  -0.59677555]\n",
      " [ 2.06713324 -1.17663843]\n",
      " [ 1.07681071 -0.13288524]\n",
      " [ 0.68068169  1.78066227]\n",
      " [-0.70576986  0.56295021]\n",
      " [ 0.77971394  0.35999821]\n",
      " [ 0.8787462  -0.53878926]\n",
      " [-1.20093113 -1.58254245]\n",
      " [ 2.1661655   0.93986109]\n",
      " [-0.01254409  1.22979253]\n",
      " [ 0.18552042  1.08482681]\n",
      " [ 0.38358493 -0.48080297]\n",
      " [-0.30964085 -0.30684411]\n",
      " [ 0.97777845 -0.8287207 ]\n",
      " [ 0.97777845  1.8676417 ]\n",
      " [-0.01254409  1.25878567]\n",
      " [-0.90383437  2.27354572]\n",
      " [-1.20093113 -1.58254245]\n",
      " [ 2.1661655  -0.79972756]\n",
      " [-1.39899564 -1.46656987]\n",
      " [ 0.38358493  2.30253886]\n",
      " [ 0.77971394  0.76590222]\n",
      " [-1.00286662 -0.30684411]\n",
      " [ 0.08648817  0.76590222]\n",
      " [-1.00286662  0.56295021]\n",
      " [ 0.28455268  0.07006676]\n",
      " [ 0.68068169 -1.26361786]\n",
      " [-0.50770535 -0.01691267]\n",
      " [-1.79512465  0.35999821]\n",
      " [-0.70576986  0.12805305]\n",
      " [ 0.38358493  0.30201192]\n",
      " [-0.30964085  0.07006676]\n",
      " [-0.50770535  2.30253886]\n",
      " [ 0.18552042  0.04107362]\n",
      " [ 1.27487521  2.21555943]\n",
      " [ 0.77971394  0.27301877]\n",
      " [-0.30964085  0.1570462 ]\n",
      " [-0.01254409 -0.53878926]\n",
      " [-0.21060859  0.1570462 ]\n",
      " [-0.11157634  0.24402563]\n",
      " [-0.01254409 -0.24885782]\n",
      " [ 2.1661655   1.11381995]\n",
      " [-1.79512465  0.35999821]\n",
      " [ 1.86906873  0.12805305]\n",
      " [ 0.38358493 -0.13288524]\n",
      " [-1.20093113  0.30201192]\n",
      " [ 0.77971394  1.37475825]\n",
      " [-0.30964085 -0.24885782]\n",
      " [-1.6960924  -0.04590581]\n",
      " [-1.00286662 -0.74174127]\n",
      " [ 0.28455268  0.50496393]\n",
      " [-0.11157634 -1.06066585]\n",
      " [-1.10189888  0.59194336]\n",
      " [ 0.08648817 -0.79972756]\n",
      " [-1.00286662  1.54871711]\n",
      " [-0.70576986  1.40375139]\n",
      " [-1.29996338  0.50496393]\n",
      " [-0.30964085  0.04107362]\n",
      " [-0.11157634  0.01208048]\n",
      " [-0.30964085 -0.88670699]\n",
      " [ 0.8787462  -1.3505973 ]\n",
      " [-0.30964085  2.24455257]\n",
      " [ 0.97777845  1.98361427]\n",
      " [-1.20093113  0.47597078]\n",
      " [-1.29996338  0.27301877]\n",
      " [ 1.37390747  1.98361427]\n",
      " [ 1.27487521 -1.3505973 ]\n",
      " [-0.30964085 -0.27785096]\n",
      " [-0.50770535  1.25878567]\n",
      " [-0.80480212  1.08482681]\n",
      " [ 0.97777845 -1.06066585]\n",
      " [ 0.28455268  0.30201192]\n",
      " [ 0.97777845  0.76590222]\n",
      " [-0.70576986 -1.49556302]\n",
      " [-0.70576986  0.04107362]\n",
      " [ 0.48261718  1.72267598]\n",
      " [ 2.06713324  0.18603934]\n",
      " [-1.99318916 -0.74174127]\n",
      " [-0.21060859  1.40375139]\n",
      " [ 0.38358493  0.59194336]\n",
      " [ 0.8787462  -1.14764529]\n",
      " [-1.20093113 -0.77073441]\n",
      " [ 0.18552042  0.24402563]\n",
      " [ 0.77971394 -0.30684411]\n",
      " [ 2.06713324 -0.79972756]\n",
      " [ 0.77971394  0.12805305]\n",
      " [-0.30964085  0.6209365 ]\n",
      " [-1.00286662 -0.30684411]\n",
      " [ 0.18552042 -0.3648304 ]\n",
      " [ 2.06713324  2.12857999]\n",
      " [ 1.86906873 -1.26361786]\n",
      " [ 1.37390747 -0.91570013]\n",
      " [ 0.8787462   1.25878567]\n",
      " [ 1.47293972  2.12857999]\n",
      " [-0.30964085 -1.23462472]\n",
      " [ 1.96810099  0.91086794]\n",
      " [ 0.68068169 -0.71274813]\n",
      " [-1.49802789  0.35999821]\n",
      " [ 0.77971394 -1.3505973 ]\n",
      " [ 0.38358493 -0.13288524]\n",
      " [-1.00286662  0.41798449]\n",
      " [-0.01254409 -0.30684411]\n",
      " [-1.20093113  0.41798449]\n",
      " [-0.90383437 -1.20563157]\n",
      " [-0.11157634  0.04107362]\n",
      " [-1.59706014 -0.42281668]\n",
      " [ 0.97777845 -1.00267957]\n",
      " [ 1.07681071 -1.20563157]\n",
      " [-0.01254409 -0.13288524]\n",
      " [-1.10189888 -1.52455616]\n",
      " [ 0.77971394 -1.20563157]\n",
      " [ 0.97777845  2.07059371]\n",
      " [-1.20093113 -1.52455616]\n",
      " [-0.30964085  0.79489537]\n",
      " [ 0.08648817 -0.30684411]\n",
      " [-1.39899564 -1.23462472]\n",
      " [-0.60673761 -1.49556302]\n",
      " [ 0.77971394  0.53395707]\n",
      " [-0.30964085 -0.33583725]\n",
      " [ 1.77003648 -0.27785096]\n",
      " [ 0.8787462  -1.03167271]\n",
      " [ 0.18552042  0.07006676]\n",
      " [-0.60673761  0.8818748 ]\n",
      " [-1.89415691 -1.40858358]\n",
      " [-1.29996338  0.59194336]\n",
      " [-0.30964085  0.53395707]\n",
      " [-1.00286662 -1.089659  ]\n",
      " [ 1.17584296 -1.43757673]\n",
      " [ 0.18552042 -0.30684411]\n",
      " [ 1.17584296 -0.74174127]\n",
      " [-0.30964085  0.07006676]\n",
      " [ 0.18552042  2.09958685]\n",
      " [ 0.77971394 -1.089659  ]\n",
      " [ 0.08648817  0.04107362]\n",
      " [-1.79512465  0.12805305]\n",
      " [-0.90383437  0.1570462 ]\n",
      " [-0.70576986  0.18603934]\n",
      " [ 0.8787462  -1.29261101]\n",
      " [ 0.18552042 -0.24885782]\n",
      " [-0.4086731   1.22979253]\n",
      " [-0.01254409  0.30201192]\n",
      " [ 0.38358493  0.1570462 ]\n",
      " [ 0.8787462  -0.65476184]\n",
      " [ 0.08648817  0.1570462 ]\n",
      " [-1.89415691 -1.29261101]\n",
      " [-0.11157634  0.30201192]\n",
      " [-0.21060859 -0.27785096]\n",
      " [ 0.28455268 -0.50979612]\n",
      " [-0.21060859  1.6067034 ]\n",
      " [ 0.97777845 -1.17663843]\n",
      " [-0.21060859  1.63569655]\n",
      " [ 1.27487521  1.8676417 ]\n",
      " [-1.10189888 -0.3648304 ]\n",
      " [-0.01254409  0.04107362]\n",
      " [ 0.08648817 -0.24885782]\n",
      " [-1.59706014 -1.23462472]\n",
      " [-0.50770535 -0.27785096]\n",
      " [ 0.97777845  0.12805305]\n",
      " [ 1.96810099 -1.3505973 ]\n",
      " [ 1.47293972  0.07006676]\n",
      " [-0.60673761  1.37475825]\n",
      " [ 1.57197197  0.01208048]\n",
      " [-0.80480212  0.30201192]\n",
      " [ 1.96810099  0.73690908]\n",
      " [-1.20093113 -0.50979612]\n",
      " [ 0.68068169  0.27301877]\n",
      " [-1.39899564 -0.42281668]\n",
      " [ 0.18552042  0.1570462 ]\n",
      " [-0.50770535 -1.20563157]\n",
      " [ 0.58164944  2.01260742]\n",
      " [-1.59706014 -1.49556302]\n",
      " [-0.50770535 -0.53878926]\n",
      " [ 0.48261718  1.83864855]\n",
      " [-1.39899564 -1.089659  ]\n",
      " [ 0.77971394 -1.37959044]\n",
      " [-0.30964085 -0.42281668]\n",
      " [ 1.57197197  0.99784738]\n",
      " [ 0.97777845  1.43274454]\n",
      " [-0.30964085 -0.48080297]\n",
      " [-0.11157634  2.15757314]\n",
      " [-1.49802789 -0.1038921 ]\n",
      " [-0.11157634  1.95462113]\n",
      " [-0.70576986 -0.33583725]\n",
      " [-0.50770535 -0.8287207 ]\n",
      " [ 0.68068169 -1.37959044]\n",
      " [-0.80480212 -1.58254245]\n",
      " [-1.89415691 -1.46656987]\n",
      " [ 1.07681071  0.12805305]\n",
      " [ 0.08648817  1.51972397]\n",
      " [-0.30964085  0.09905991]\n",
      " [ 0.08648817  0.04107362]\n",
      " [-1.39899564 -1.3505973 ]\n",
      " [ 0.28455268  0.07006676]\n",
      " [-0.90383437  0.38899135]\n",
      " [ 1.57197197 -1.26361786]\n",
      " [-0.30964085 -0.74174127]\n",
      " [-0.11157634  0.1570462 ]\n",
      " [-0.90383437 -0.65476184]\n",
      " [-0.70576986 -0.04590581]\n",
      " [ 0.38358493 -0.45180983]\n",
      " [-0.80480212  1.89663484]\n",
      " [ 1.37390747  1.28777882]\n",
      " [ 1.17584296 -0.97368642]\n",
      " [ 1.77003648  1.83864855]\n",
      " [-0.90383437 -0.24885782]\n",
      " [-0.80480212  0.56295021]\n",
      " [-1.20093113 -1.5535493 ]\n",
      " [-0.50770535 -1.11865214]\n",
      " [ 0.28455268  0.07006676]\n",
      " [-0.21060859 -1.06066585]\n",
      " [ 1.67100423  1.6067034 ]\n",
      " [ 0.97777845  1.78066227]\n",
      " [ 0.28455268  0.04107362]\n",
      " [-0.80480212 -0.21986468]\n",
      " [-0.11157634  0.07006676]\n",
      " [ 0.28455268 -0.19087153]\n",
      " [ 1.96810099 -0.65476184]\n",
      " [-0.80480212  1.3457651 ]\n",
      " [-1.79512465 -0.59677555]\n",
      " [-0.11157634  0.12805305]\n",
      " [ 0.28455268 -0.30684411]\n",
      " [ 1.07681071  0.56295021]\n",
      " [-1.00286662  0.27301877]\n",
      " [ 1.47293972  0.35999821]\n",
      " [ 0.18552042 -0.3648304 ]\n",
      " [ 2.1661655  -1.03167271]\n",
      " [-0.30964085  1.11381995]\n",
      " [-1.6960924   0.07006676]\n",
      " [-0.01254409  0.04107362]\n",
      " [ 0.08648817  1.05583366]\n",
      " [-0.11157634 -0.3648304 ]\n",
      " [-1.20093113  0.07006676]\n",
      " [-0.30964085 -1.3505973 ]\n",
      " [ 1.57197197  1.11381995]\n",
      " [-0.80480212 -1.52455616]\n",
      " [ 0.08648817  1.8676417 ]\n",
      " [-0.90383437 -0.77073441]\n",
      " [-0.50770535 -0.77073441]\n",
      " [-0.30964085 -0.91570013]\n",
      " [ 0.28455268 -0.71274813]\n",
      " [ 0.28455268  0.07006676]\n",
      " [ 0.08648817  1.8676417 ]\n",
      " [-1.10189888  1.95462113]\n",
      " [-1.6960924  -1.5535493 ]\n",
      " [-1.20093113 -1.089659  ]\n",
      " [-0.70576986 -0.1038921 ]\n",
      " [ 0.08648817  0.09905991]\n",
      " [ 0.28455268  0.27301877]\n",
      " [ 0.8787462  -0.5677824 ]\n",
      " [ 0.28455268 -1.14764529]\n",
      " [-0.11157634  0.67892279]\n",
      " [ 2.1661655  -0.68375498]\n",
      " [-1.29996338 -1.37959044]\n",
      " [-1.00286662 -0.94469328]\n",
      " [-0.01254409 -0.42281668]\n",
      " [-0.21060859 -0.45180983]\n",
      " [-1.79512465 -0.97368642]\n",
      " [ 1.77003648  0.99784738]\n",
      " [ 0.18552042 -0.3648304 ]\n",
      " [ 0.38358493  1.11381995]\n",
      " [-1.79512465 -1.3505973 ]\n",
      " [ 0.18552042 -0.13288524]\n",
      " [ 0.8787462  -1.43757673]\n",
      " [-1.99318916  0.47597078]\n",
      " [-0.30964085  0.27301877]\n",
      " [ 1.86906873 -1.06066585]\n",
      " [-0.4086731   0.07006676]\n",
      " [ 1.07681071 -0.88670699]\n",
      " [-1.10189888 -1.11865214]\n",
      " [-1.89415691  0.01208048]\n",
      " [ 0.08648817  0.27301877]\n",
      " [-1.20093113  0.33100506]\n",
      " [-1.29996338  0.30201192]\n",
      " [-1.00286662  0.44697764]\n",
      " [ 1.67100423 -0.88670699]\n",
      " [ 1.17584296  0.53395707]\n",
      " [ 1.07681071  0.53395707]\n",
      " [ 1.37390747  2.331532  ]\n",
      " [-0.30964085 -0.13288524]\n",
      " [ 0.38358493 -0.45180983]\n",
      " [-0.4086731  -0.77073441]\n",
      " [-0.11157634 -0.50979612]\n",
      " [ 0.97777845 -1.14764529]\n",
      " [-0.90383437 -0.77073441]\n",
      " [-0.21060859 -0.50979612]\n",
      " [-1.10189888 -0.45180983]\n",
      " [-1.20093113  1.40375139]]\n"
     ]
    }
   ],
   "source": [
    "from sklearn.preprocessing import StandardScaler  # Scaling\n",
    "sc_x = StandardScaler()\n",
    "xtrain = sc_x.fit_transform(xtrain)\n",
    "xtest = sc_x.transform(xtest)\n",
    "print(xtrain)"
   ]
  },
  {
   "cell_type": "code",
   "execution_count": 21,
   "id": "b8cee036",
   "metadata": {},
   "outputs": [
    {
     "data": {
      "text/plain": [
       "LogisticRegression(random_state=0)"
      ]
     },
     "execution_count": 21,
     "metadata": {},
     "output_type": "execute_result"
    }
   ],
   "source": [
    "from sklearn.linear_model import LogisticRegression\n",
    "classifier = LogisticRegression(random_state = 0)\n",
    "classifier.fit(xtrain, ytrain)"
   ]
  },
  {
   "cell_type": "code",
   "execution_count": 22,
   "id": "118c80af",
   "metadata": {},
   "outputs": [],
   "source": [
    "y_pred = classifier.predict(xtest)"
   ]
  },
  {
   "cell_type": "code",
   "execution_count": 23,
   "id": "fb1334ba",
   "metadata": {},
   "outputs": [
    {
     "name": "stdout",
     "output_type": "stream",
     "text": [
      "Confusion Matrix : \n",
      " [[65  3]\n",
      " [ 8 24]]\n"
     ]
    }
   ],
   "source": [
    "# Confusion Matrix\n",
    "from sklearn.metrics import confusion_matrix\n",
    "cm = confusion_matrix(ytest, y_pred)\n",
    "print(\"Confusion Matrix : \\n\" , cm)"
   ]
  },
  {
   "cell_type": "code",
   "execution_count": 24,
   "id": "564c1125",
   "metadata": {},
   "outputs": [
    {
     "name": "stdout",
     "output_type": "stream",
     "text": [
      "Accuracy:  0.89\n",
      "Precision:  0.8888888888888888\n",
      "Recall:  0.75\n"
     ]
    }
   ],
   "source": [
    "import sklearn.metrics as metrics  # Finding accuracy precision and recall\n",
    "print ('Accuracy: ', metrics.accuracy_score(ytest,y_pred))\n",
    "print ('Precision: ', metrics.precision_score(ytest,y_pred))\n",
    "print ('Recall: ', metrics.recall_score(ytest,y_pred))"
   ]
  },
  {
   "cell_type": "code",
   "execution_count": 25,
   "id": "c6b74ac6",
   "metadata": {},
   "outputs": [
    {
     "name": "stdout",
     "output_type": "stream",
     "text": [
      "              precision    recall  f1-score   support\n",
      "\n",
      "           0       0.89      0.96      0.92        68\n",
      "           1       0.89      0.75      0.81        32\n",
      "\n",
      "    accuracy                           0.89       100\n",
      "   macro avg       0.89      0.85      0.87       100\n",
      "weighted avg       0.89      0.89      0.89       100\n",
      "\n"
     ]
    }
   ],
   "source": [
    "from sklearn.metrics import classification_report\n",
    "print(classification_report(ytest,y_pred))"
   ]
  },
  {
   "cell_type": "markdown",
   "id": "18de6a43",
   "metadata": {},
   "source": [
    "# ......................................................Conclusion......................................................"
   ]
  },
  {
   "cell_type": "raw",
   "id": "9ba84d62",
   "metadata": {},
   "source": [
    "In KNN the accuracy is 0.98\n",
    "But in Logistic Regression the accuracy is 0.89\n",
    "So we can conlude that for this dataset KNN algorithm is preffered"
   ]
  }
 ],
 "metadata": {
  "kernelspec": {
   "display_name": "Python 3 (ipykernel)",
   "language": "python",
   "name": "python3"
  },
  "language_info": {
   "codemirror_mode": {
    "name": "ipython",
    "version": 3
   },
   "file_extension": ".py",
   "mimetype": "text/x-python",
   "name": "python",
   "nbconvert_exporter": "python",
   "pygments_lexer": "ipython3",
   "version": "3.9.13"
  }
 },
 "nbformat": 4,
 "nbformat_minor": 5
}
